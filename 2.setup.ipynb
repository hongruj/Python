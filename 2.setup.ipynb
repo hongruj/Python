{
 "cells": [
  {
   "cell_type": "markdown",
   "id": "4061a67d",
   "metadata": {},
   "source": [
    "### Including setup_base params in this notebook\n",
    "### optimization in pytorch"
   ]
  },
  {
   "cell_type": "code",
   "execution_count": 1,
   "id": "9b8492d8",
   "metadata": {},
   "outputs": [],
   "source": [
    "import numpy as np\n",
    "import json\n",
    "import torch\n",
    "from torch import optim\n",
    "from lib.defaults import Main\n",
    "from lib.gramians import Make\n",
    "from lib.dynamics_diff import Dynamics\n",
    "from lib.plotting import plot_out"
   ]
  },
  {
   "cell_type": "code",
   "execution_count": 2,
   "id": "d4987bea",
   "metadata": {},
   "outputs": [],
   "source": [
    "main = Main()\n",
    "G = Make(main.a)\n",
    "\n",
    "# setup_base\n",
    "target = torch.load(\"./velocity.pt\")  #(c,2,t)\n",
    "n_mov = len(target)\n",
    "n_muscles, n_bins = np.array(target[0]).shape\n",
    "xstars_std = 1.5\n",
    "t_max = main.sampling_dt * n_bins\n",
    "\n",
    "# prms\n",
    "n = main.n\n",
    "n_obs = 50   # actually n, but 50 has good result\n",
    "n_e = main.n_e\n",
    "lambda_traj = 1.0 / n_mov\n",
    "lambda_reg = 1.0 / (len(main.m1_slice) * n_muscles)\n",
    "\n",
    "gamma_ = torch.Tensor(main.gamma)\n",
    "reuse = False "
   ]
  },
  {
   "cell_type": "code",
   "execution_count": 3,
   "id": "89022a77",
   "metadata": {},
   "outputs": [],
   "source": [
    "# Spontaneous\n",
    "np.random.seed(2021)\n",
    "spontaneous = (\n",
    "    np.loadtxt('spontaneous.txt') if reuse\n",
    "    else         \n",
    "        20*(np.random.normal(0, main.spontaneous_std, (n,1))+ main.baseline_rate)   # in accordance with paper\n",
    ")\n",
    "\n",
    "xstars_prms0 = np.random.normal(scale=0.1 / np.sqrt(n), size=(n_obs, n_mov))\n",
    "c_prms0 = np.random.normal(scale=0.1 / np.sqrt(n), size=(n_muscles, n_e))\n",
    "xstars_p_tch = torch.Tensor(xstars_prms0).requires_grad_(True)\n",
    "c_p_tch = torch.Tensor(c_prms0).requires_grad_(True)   \n",
    "# torch\n",
    "spontaneous_ = torch.Tensor(spontaneous)"
   ]
  },
  {
   "cell_type": "code",
   "execution_count": 4,
   "id": "23a78057",
   "metadata": {},
   "outputs": [],
   "source": [
    "def unpack(xstars_prms, c):\n",
    "    # xstars_prms: n_obs * n_mov\n",
    "    # c_prms: n_muscles * n_m1\n",
    "\n",
    "    # Get the top n_obs eigenvectors of the observability Gramian\n",
    "    top_obs = torch.Tensor(G.O.top(n_obs))\n",
    "    z = n * n_mov * xstars_std ** 2\n",
    "\n",
    "    # Calculate xstars and c\n",
    "    xstars = top_obs @ xstars_prms\n",
    "    xstars = torch.sqrt(z / torch.sum(xstars ** 2)) * xstars \n",
    "    xstars_motor = gamma_ @ torch.cat((xstars + spontaneous_, spontaneous_), axis=1) # no gamma\n",
    "    h = torch.linalg.solve(xstars_motor.T @ xstars_motor, xstars_motor.T)\n",
    "    c = c - c @ xstars_motor @ h\n",
    "\n",
    "    return spontaneous_ + xstars, c\n"
   ]
  },
  {
   "cell_type": "code",
   "execution_count": 5,
   "id": "2f4dcbd4",
   "metadata": {},
   "outputs": [],
   "source": [
    "# Trajectory\n",
    "def trajectory(xstar, c):    \n",
    "    r = Dynamics().run(t_max, xstar, spontaneous_, grad = True)\n",
    "    r = torch.stack(r, dim=0)  \n",
    "    out = [c @ gamma_ @ r[:,:,i].T for i in range(n_mov)]\n",
    "    out = torch.stack(out, dim=0) \n",
    "    return r, out"
   ]
  },
  {
   "cell_type": "code",
   "execution_count": 6,
   "id": "c533539f",
   "metadata": {},
   "outputs": [],
   "source": [
    "def loss(vel, target, c):\n",
    "    cost_move = lambda_traj * main.sampling_dt * ((vel - target)**2).sum()\n",
    "    reg = lambda_reg * (c ** 2).sum()\n",
    "    return cost_move + reg"
   ]
  },
  {
   "cell_type": "code",
   "execution_count": 7,
   "id": "b14ad750",
   "metadata": {},
   "outputs": [],
   "source": [
    "def train(n_iter): \n",
    "    # torch  \n",
    "    updater = optim.Adam([xstars_p_tch, c_p_tch])  \n",
    "    \n",
    "    for i in range(n_iter):          \n",
    "        xstars, c = unpack(xstars_p_tch, c_p_tch)\n",
    "        _, vel = trajectory(xstars, c)        \n",
    "        l = loss(vel, target, c)\n",
    "        updater.zero_grad()\n",
    "        l.backward()\n",
    "        updater.step()\n",
    "        if (i+1) % (n_iter // 10) == 0 or i==0:\n",
    "            print(f'iteration {i+1}/{n_iter} | train loss: {l.item():.4f}')\n",
    "    return xstars, c"
   ]
  },
  {
   "cell_type": "code",
   "execution_count": 8,
   "id": "d76abef2",
   "metadata": {
    "scrolled": false
   },
   "outputs": [
    {
     "name": "stdout",
     "output_type": "stream",
     "text": [
      "iteration 1/1000 | train loss: 209.0939\n",
      "iteration 100/1000 | train loss: 2.4998\n",
      "iteration 200/1000 | train loss: 0.9418\n",
      "iteration 300/1000 | train loss: 0.5436\n",
      "iteration 400/1000 | train loss: 0.3654\n",
      "iteration 500/1000 | train loss: 0.2797\n",
      "iteration 600/1000 | train loss: 0.2222\n",
      "iteration 700/1000 | train loss: 0.1816\n",
      "iteration 800/1000 | train loss: 0.1555\n",
      "iteration 900/1000 | train loss: 0.1338\n",
      "iteration 1000/1000 | train loss: 0.1138\n"
     ]
    }
   ],
   "source": [
    "xstars, c = train(1000)"
   ]
  },
  {
   "cell_type": "code",
   "execution_count": 10,
   "id": "505399e6",
   "metadata": {},
   "outputs": [
    {
     "data": {
      "image/png": "[encoded data removed]",
      "text/plain": [
       "<Figure size 720x324 with 6 Axes>"
      ]
     },
     "metadata": {
      "needs_background": "light"
     },
     "output_type": "display_data"
    }
   ],
   "source": [
    "_, vel = trajectory(xstars, c)  \n",
    "plot_out(vel.detach().numpy())"
   ]
  },
  {
   "cell_type": "code",
   "execution_count": 11,
   "id": "57e8a705",
   "metadata": {},
   "outputs": [],
   "source": [
    "prms = {\n",
    "        'xstars': xstars.detach().numpy().tolist(),\n",
    "        'c': c.detach().numpy().tolist()\n",
    "}\n",
    "with open(\"setup_prms.json\",\"w\", encoding='utf-8') as f: \n",
    "    f.write(  json.dumps(  prms  ,ensure_ascii=False  ) )  \n",
    "np.savetxt('spontaneous.txt',spontaneous)"
   ]
  },
  {
   "cell_type": "code",
   "execution_count": null,
   "id": "ed65b3ac",
   "metadata": {},
   "outputs": [],
   "source": []
  },
  {
   "cell_type": "code",
   "execution_count": null,
   "id": "c3285abb",
   "metadata": {},
   "outputs": [],
   "source": []
  },
  {
   "cell_type": "code",
   "execution_count": null,
   "id": "7eff9ada",
   "metadata": {},
   "outputs": [],
   "source": []
  }
 ],
 "metadata": {
  "kernelspec": {
   "display_name": "Python 3 (ipykernel)",
   "language": "python",
   "name": "python3"
  },
  "language_info": {
   "codemirror_mode": {
    "name": "ipython",
    "version": 3
   },
   "file_extension": ".py",
   "mimetype": "text/x-python",
   "name": "python",
   "nbconvert_exporter": "python",
   "pygments_lexer": "ipython3",
   "version": "3.7.11"
  }
 },
 "nbformat": 4,
 "nbformat_minor": 5
}

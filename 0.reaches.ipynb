{
 "cells": [
  {
   "cell_type": "markdown",
   "id": "a1085c2c",
   "metadata": {},
   "source": [
    "### velocity as output for the moment"
   ]
  },
  {
   "cell_type": "code",
   "execution_count": 1,
   "id": "3e9f5a58",
   "metadata": {},
   "outputs": [],
   "source": [
    "from lib.defaults import Main\n",
    "import torch"
   ]
  },
  {
   "cell_type": "code",
   "execution_count": 2,
   "id": "00f1688a",
   "metadata": {},
   "outputs": [],
   "source": [
    "def out_velocity(distance_tar, T, cond):\n",
    "    # set params\n",
    "    dt = Main().sampling_dt\n",
    "    range_t = torch.arange(0, T, dt)  # Vector of discretized time points [ms]  \n",
    "    tau_reach = 130e-3\n",
    "    velocity = torch.zeros((cond,2,len(range_t)))\n",
    "    \n",
    "    vel = (range_t/tau_reach)**2 * torch.exp((-(range_t/tau_reach)**2)/2)\n",
    "    v0 = distance_tar/ torch.sum(vel*dt)  \n",
    "    # right\n",
    "    vel_x1 = v0 * vel        \n",
    "    velocity[0,0,:] = vel_x1\n",
    "    # up right\n",
    "    vel_x2 = v0/2 * vel\n",
    "    vel_y2 = v0*(3**0.5)/2 * vel\n",
    "    velocity[1,0,:] = vel_x2\n",
    "    velocity[1,1,:] = vel_y2\n",
    "    # up left \n",
    "    velocity[2,0,:] = -vel_x2\n",
    "    velocity[2,1,:] = vel_y2\n",
    "    # left \n",
    "    velocity[3,0,:] = -vel_x1\n",
    "    # down left \n",
    "    velocity[4,0,:] = -vel_x2\n",
    "    velocity[4,1,:] = -vel_y2\n",
    "    # down right \n",
    "    velocity[5,0,:] = vel_x2\n",
    "    velocity[5,1,:] = -vel_y2\n",
    "    return velocity"
   ]
  },
  {
   "cell_type": "code",
   "execution_count": 3,
   "id": "27626653",
   "metadata": {},
   "outputs": [],
   "source": [
    "duration = 0.6  \n",
    "distance_tar = 8   #lenth[cm]\n",
    "cond = 6\n",
    "v = out_velocity(distance_tar, duration, cond)"
   ]
  },
  {
   "cell_type": "code",
   "execution_count": 4,
   "id": "385a8be2",
   "metadata": {},
   "outputs": [],
   "source": [
    "torch.save(v, \"./velocity.pt\")"
   ]
  },
  {
   "cell_type": "markdown",
   "id": "4f370bf2",
   "metadata": {},
   "source": []
  }
 ],
 "metadata": {
  "kernelspec": {
   "display_name": "Python 3 (ipykernel)",
   "language": "python",
   "name": "python3"
  },
  "language_info": {
   "codemirror_mode": {
    "name": "ipython",
    "version": 3
   },
   "file_extension": ".py",
   "mimetype": "text/x-python",
   "name": "python",
   "nbconvert_exporter": "python",
   "pygments_lexer": "ipython3",
   "version": "3.7.11"
  }
 },
 "nbformat": 4,
 "nbformat_minor": 5
}
